{
 "cells": [
  {
   "cell_type": "code",
   "execution_count": 1,
   "metadata": {},
   "outputs": [
    {
     "name": "stdout",
     "output_type": "stream",
     "text": [
      "Harry from Gryffindor\n"
     ]
    }
   ],
   "source": [
    "name = input(\"Name: \")\n",
    "house = input(\"House: \")\n",
    "print(f\"{name} from {house}\")"
   ]
  },
  {
   "cell_type": "code",
   "execution_count": 2,
   "metadata": {},
   "outputs": [
    {
     "name": "stdout",
     "output_type": "stream",
     "text": [
      "Harry from Gryffindor\n"
     ]
    }
   ],
   "source": [
    "def main():\n",
    "    name = get_name()\n",
    "    house = get_house()\n",
    "    print(f\"{name} from {house}\")\n",
    "\n",
    "def get_name():\n",
    "    return input(\"Name: \")\n",
    "\n",
    "def get_house():\n",
    "    return input(\"House: \")\n",
    "\n",
    "if __name__ == \"__main__\":\n",
    "    main()\n"
   ]
  },
  {
   "cell_type": "code",
   "execution_count": 5,
   "metadata": {},
   "outputs": [
    {
     "name": "stdout",
     "output_type": "stream",
     "text": [
      "Harry from Gryffindor\n"
     ]
    }
   ],
   "source": [
    "def main():\n",
    "    student = get_student() \n",
    "    print(f\"{student[0]} from {student[1]}\")\n",
    "\n",
    "def get_student():\n",
    "    name = input(\"Name: \")\n",
    "    house = input(\"House: \")\n",
    "    return (name, house)    #tuple\n",
    "\n",
    "if __name__ == \"__main__\":\n",
    "    main()\n"
   ]
  },
  {
   "cell_type": "code",
   "execution_count": 7,
   "metadata": {},
   "outputs": [
    {
     "name": "stdout",
     "output_type": "stream",
     "text": [
      "Padma from Ravenclaw\n"
     ]
    }
   ],
   "source": [
    "def main():\n",
    "    student = get_student() \n",
    "    if student[0] == \"Padma\":\n",
    "        student[1] = \"Ravenclaw\"\n",
    "    print(f\"{student[0]} from {student[1]}\")\n",
    "\n",
    "def get_student():\n",
    "    name = input(\"Name: \")\n",
    "    house = input(\"House: \")\n",
    "    return [name, house] #The list is mutable and can therefore be changed. Could not be modified as a tuple   \n",
    "\n",
    "if __name__ == \"__main__\":\n",
    "    main()\n"
   ]
  },
  {
   "cell_type": "code",
   "execution_count": 12,
   "metadata": {},
   "outputs": [
    {
     "name": "stdout",
     "output_type": "stream",
     "text": [
      "Harry from Gryffindor\n"
     ]
    }
   ],
   "source": [
    "def main():\n",
    "    student = get_student() \n",
    "    #can add Padma=Ravenclaw conditional\n",
    "    print(f\"{student['name']} from {student['house']}\")\n",
    "\n",
    "def get_student():\n",
    "    student = {}\n",
    "    name = input(\"Name: \")\n",
    "    house = input(\"House: \")\n",
    "    return {\"name\": name, \"house\": house}\n",
    "\n",
    "if __name__ == \"__main__\":\n",
    "    main()\n"
   ]
  },
  {
   "cell_type": "code",
   "execution_count": 4,
   "metadata": {},
   "outputs": [
    {
     "name": "stdout",
     "output_type": "stream",
     "text": [
      "Harry from Gryffindor\n"
     ]
    }
   ],
   "source": [
    "#CLASSES- to create your own data types\n",
    "class Student:\n",
    "    def __init__(self, name, house):\n",
    "        if not name: \n",
    "        #raise - catching an error when requirements of the code are not met\n",
    "            raise ValueError(\"Missing name\")\n",
    "        if house not in [\"Gryffindor\", \"Hufflepuff\", \"Ravenclaw\", \"Slytherin\"]:\n",
    "            raise ValueError(\"Invalid house\")\n",
    "        self.name = name\n",
    "        self.house = house\n",
    "    \n",
    "    def __str__(self):\n",
    "        return \"a student\"\n",
    "    \n",
    "def main():\n",
    "    student = get_student()\n",
    "    print(f\"{student.name} from {student.house}\")\n",
    "\n",
    "def get_student():\n",
    "    name = input(\"Name: \")\n",
    "    house = input(\"House: \")\n",
    "    return Student(name, house)\n",
    "\n",
    "if __name__ == \"__main__\":\n",
    "    main()"
   ]
  },
  {
   "cell_type": "code",
   "execution_count": 6,
   "metadata": {},
   "outputs": [
    {
     "name": "stdout",
     "output_type": "stream",
     "text": [
      "Expecto Patronum\n",
      "<bound method Student.charm of <__main__.Student object at 0x0000014845CBD130>>\n"
     ]
    }
   ],
   "source": [
    "class Student:\n",
    "    def __init__(self, name, house, patronous):\n",
    "        if not name: \n",
    "            raise ValueError(\"Missing name\")\n",
    "        if house not in [\"Gryffindor\", \"Hufflepuff\", \"Ravenclaw\", \"Slytherin\"]:\n",
    "            raise ValueError(\"Invalid house\")\n",
    "        self.name = name\n",
    "        self.house = house\n",
    "        self.patronous = patronous\n",
    "    \n",
    "    def __str__(self):\n",
    "        return \"a student\"\n",
    "    \n",
    "    def charm(self):\n",
    "        match self.patronous:\n",
    "            case \"Stag\":\n",
    "                return \"🫎\"\n",
    "            case \"Otter\":\n",
    "                return \"🦦\"\n",
    "            case \"Jack Russel terrier\":\n",
    "                return \"🐕\"\n",
    "            case _:\n",
    "                return \"🪄\"\n",
    "def main():\n",
    "    student = get_student()\n",
    "    print(\"Expecto Patronum\")\n",
    "    print(student.charm)\n",
    "\n",
    "def get_student():\n",
    "    name = input(\"Name: \")\n",
    "    house = input(\"House: \")\n",
    "    patronous = input(\"Patronous: \")\n",
    "    return Student(name, house, patronous)\n",
    "\n",
    "if __name__ == \"__main__\":\n",
    "    main()"
   ]
  },
  {
   "cell_type": "code",
   "execution_count": 24,
   "metadata": {},
   "outputs": [
    {
     "name": "stdout",
     "output_type": "stream",
     "text": [
      "Harry from Gryffindor\n"
     ]
    }
   ],
   "source": [
    "class Student:\n",
    "    def __init__(self, name, house,):\n",
    "        if not name: \n",
    "            raise ValueError(\"Missing name\")\n",
    "        self.name = name\n",
    "        self.house = house\n",
    "    \n",
    "    def __str__(self):\n",
    "        return f\"{self.name} from {self.house}\"\n",
    "    \n",
    "    @property\n",
    "    def name(self):\n",
    "        return self._name\n",
    "    \n",
    "    @name.setter\n",
    "    def name(self, name):\n",
    "        if not name:\n",
    "            raise ValueError(\"Missing name\")\n",
    "        self._name = name\n",
    "    #Getters: These are the methods used in Object-Oriented Programming (OOPS) which helps to access the private attributes from a class.\n",
    "    @property #name the function how you want the property to be called\n",
    "    def house(self):\n",
    "        return self._house\n",
    "    \n",
    "    #Setters - These are the methods used in OOPS feature which helps to set the value to private attributes in a class.\n",
    "    #The setter can be used to hold all error checking functionality. may not be required in other positions in the code\n",
    "    @house.setter #Must follow appropriate syntax otherwise the setter does not work\n",
    "    def house(self, house):\n",
    "        if house not in [\"Gryffindor\", \"Hufflepuff\", \"Ravenclaw\", \"Slytherin\"]:\n",
    "            raise ValueError(\"Invalid house\")\n",
    "        self._house = house   \n",
    "#Getters and setters can be circumvented by using _ to show an instance varible for a unique instance\n",
    "\n",
    "def main():\n",
    "    student = get_student()\n",
    "    print(student)\n",
    "    \n",
    "def get_student():\n",
    "    name = input(\"Name: \")\n",
    "    house = input(\"House: \")\n",
    "    return Student(name, house,)\n",
    "\n",
    "if __name__ == \"__main__\":\n",
    "    main()"
   ]
  },
  {
   "cell_type": "code",
   "execution_count": 36,
   "metadata": {},
   "outputs": [
    {
     "name": "stdout",
     "output_type": "stream",
     "text": [
      "Harry is in Hufflepuff\n"
     ]
    }
   ],
   "source": [
    "\n",
    "import random\n",
    "\n",
    "class Hat:\n",
    "    def __init__(self):\n",
    "        self.houses = [\"Gryffindor\", \"Hufflepuff\", \"Ravenclaw\", \"Slytherin\"]\n",
    "    def sort(self, name):\n",
    "        print(name, \"is in\", random.choice(self.houses))\n",
    "\n",
    "hat = Hat()\n",
    "hat.sort(\"Harry\")"
   ]
  },
  {
   "cell_type": "code",
   "execution_count": 46,
   "metadata": {},
   "outputs": [
    {
     "name": "stdout",
     "output_type": "stream",
     "text": [
      "Sidney is in Slytherin\n"
     ]
    }
   ],
   "source": [
    "# @classmethod - \n",
    "import random\n",
    "\n",
    "class Hat:\n",
    "\n",
    "    houses = [\"Gryffindor\", \"Hufflepuff\", \"Ravenclaw\", \"Slytherin\"]\n",
    "    \n",
    "    @classmethod\n",
    "    def sort(cls, name):\n",
    "        print(name, \"is in\", random.choice(cls.houses))\n",
    "\n",
    "Hat.sort(input(\"Enter name: \"))"
   ]
  },
  {
   "cell_type": "code",
   "execution_count": null,
   "metadata": {},
   "outputs": [],
   "source": [
    "#Classes are not always a requirement, but they help to group related data \n",
    "# in what would otherwise be complicated code \n",
    "# Different programming tools can be used interchangably and even with overlaps, sometimes depending on programmer preference on how they want to solve a specific problem\n",
    "\n",
    "import random\n",
    "\n",
    "houses = [\"Gryffindor\", \"Hufflepuff\", \"Ravenclaw\", \"Slytherin\"]\n",
    "    \n",
    "    \n",
    "def sort(name):\n",
    "    print(name, \"is in\", random.choice(houses))\n",
    "\n",
    "sort(input(\"Enter name: \"))"
   ]
  },
  {
   "cell_type": "code",
   "execution_count": 47,
   "metadata": {},
   "outputs": [
    {
     "name": "stdout",
     "output_type": "stream",
     "text": [
      "Harry from Gryffindor\n"
     ]
    }
   ],
   "source": [
    "class Student:\n",
    "    def __init__(self, name, house,):\n",
    "        self.name = name\n",
    "        self.house = house\n",
    "    \n",
    "    def __str__(self):\n",
    "        return f\"{self.name} from {self.house}\" \n",
    "\n",
    "    @classmethod\n",
    "    def get(cls):\n",
    "        name = input(\"Name: \")\n",
    "        house = input(\"House: \")\n",
    "        return cls(name, house)\n",
    "    \n",
    "def main():\n",
    "    student = Student.get()\n",
    "    print(student)\n",
    "    \n",
    "\n",
    "\n",
    "if __name__ == \"__main__\":\n",
    "    main()"
   ]
  },
  {
   "cell_type": "code",
   "execution_count": null,
   "metadata": {},
   "outputs": [],
   "source": [
    "# @staticmethods - to find out more\n",
    "\n",
    "#inheritance (feature of oop) - hierarchial layout of classes\n",
    "# inheritance suggests classes can borrow methods and attributes from other rlated classes"
   ]
  },
  {
   "cell_type": "code",
   "execution_count": 2,
   "metadata": {},
   "outputs": [],
   "source": [
    "#Inheritance\n",
    "class Wizard:\n",
    "    def __init__(self, name):\n",
    "        if not name:\n",
    "            raise ValueError(\"Missing name\")\n",
    "        self.name = name\n",
    "\n",
    "class Student(Wizard): # Indicates that the class Student is a subclass of the class Wizard, in this case the superclass\n",
    "    def __init__(self, name, house):\n",
    "        super().__init__(name)\n",
    "        self.house = house\n",
    "\n",
    "class Professor(Wizard):\n",
    "    def __init__(self, name, subject):\n",
    "        super().__init__(name)\n",
    "        self.subject = subject\n",
    "\n",
    "wizard = Wizard(\"Albus\")\n",
    "student = Student(\"Harry\", \"Gryffindor\")\n",
    "professor = Professor(\"Severus\", \"Defence against the dark arts\")"
   ]
  },
  {
   "cell_type": "code",
   "execution_count": 7,
   "metadata": {},
   "outputs": [
    {
     "name": "stdout",
     "output_type": "stream",
     "text": [
      "100 Galleons, 50 Sickles 25 Knuts\n",
      "25 Galleons, 50 Sickles 100 Knuts\n",
      "125 Galleons, 100 Sickles 50 Knuts\n"
     ]
    }
   ],
   "source": [
    "#Operator overloading- creating your own definitions to operators\n",
    "\n",
    "class Vault:\n",
    "    def __init__(self, galleons=0, sickles=0, knuts=0):\n",
    "        self.galleons = galleons\n",
    "        self.sickles = sickles\n",
    "        self.knuts = knuts\n",
    "\n",
    "    def __str__(self):\n",
    "        return f\"{self.galleons} Galleons, {self.sickles} Sickles {self.knuts} Knuts\"\n",
    "    \n",
    "potter = Vault(100, 50, 25)\n",
    "print(potter)\n",
    "\n",
    "weasley = Vault(25, 50, 100)\n",
    "print(weasley)\n",
    "\n",
    "#combining totals\n",
    "galleons = potter.galleons + weasley.galleons\n",
    "sickles = potter.sickles + weasley.sickles\n",
    "knuts = potter.knuts + potter.knuts\n",
    "\n",
    "total = Vault(galleons, sickles, knuts)\n",
    "print(total)"
   ]
  },
  {
   "cell_type": "code",
   "execution_count": null,
   "metadata": {},
   "outputs": [],
   "source": [
    "# object.__add__(self, other)\n",
    "# self - object on the left of a plus sign\n",
    "# other - item on the right of a plus sign"
   ]
  },
  {
   "cell_type": "code",
   "execution_count": 10,
   "metadata": {},
   "outputs": [
    {
     "name": "stdout",
     "output_type": "stream",
     "text": [
      "100 Galleons, 50 Sickles 25 Knuts\n",
      "25 Galleons, 50 Sickles 100 Knuts\n",
      "125 Galleons, 100 Sickles 125 Knuts\n"
     ]
    }
   ],
   "source": [
    "#Operator overloading- creating your own definitions to operators\n",
    "\n",
    "class Vault:\n",
    "    def __init__(self, galleons=0, sickles=0, knuts=0):\n",
    "        self.galleons = galleons\n",
    "        self.sickles = sickles\n",
    "        self.knuts = knuts\n",
    "\n",
    "    def __str__(self):\n",
    "        return f\"{self.galleons} Galleons, {self.sickles} Sickles {self.knuts} Knuts\"\n",
    "    \n",
    "    def __add__(self, other): #operator overload\n",
    "        galleons = self.galleons + other.galleons\n",
    "        sickles = self.sickles + other.sickles\n",
    "        knuts = self.knuts + other.knuts\n",
    "        return Vault(galleons, sickles, knuts)\n",
    "\n",
    "potter = Vault(100, 50, 25)\n",
    "print(potter)\n",
    "\n",
    "weasley = Vault(25, 50, 100)\n",
    "print(weasley)\n",
    "\n",
    "total = potter + weasley #raises a type error without operator overload\n",
    "print(total)"
   ]
  }
 ],
 "metadata": {
  "kernelspec": {
   "display_name": "Python 3",
   "language": "python",
   "name": "python3"
  },
  "language_info": {
   "codemirror_mode": {
    "name": "ipython",
    "version": 3
   },
   "file_extension": ".py",
   "mimetype": "text/x-python",
   "name": "python",
   "nbconvert_exporter": "python",
   "pygments_lexer": "ipython3",
   "version": "3.12.3"
  }
 },
 "nbformat": 4,
 "nbformat_minor": 2
}

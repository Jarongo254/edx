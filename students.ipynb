{
 "cells": [
  {
   "cell_type": "code",
   "execution_count": 6,
   "metadata": {},
   "outputs": [
    {
     "name": "stdout",
     "output_type": "stream",
     "text": [
      "Draco is in Slytherine\n",
      "Harry is in Gryffindor\n",
      "Hermione is in Gryffindor\n",
      "Ron is in Gryffindor\n"
     ]
    }
   ],
   "source": [
    "students = []\n",
    "\n",
    "with open(\"students.csv\") as file:\n",
    "    for line in file:\n",
    "        name, house = line.rstrip().split(\",\")\n",
    "        students.append(f\"{name} is in {house}\")\n",
    " # split separates components of a file based on provided arguments\n",
    "\n",
    "for student in sorted(students):\n",
    "    print(student)"
   ]
  },
  {
   "cell_type": "code",
   "execution_count": 3,
   "metadata": {},
   "outputs": [
    {
     "name": "stdout",
     "output_type": "stream",
     "text": [
      "Draco is in Slytherine\n",
      "Harry is in Gryffindor\n",
      "Hermione is in Gryffindor\n",
      "Ron is in Gryffindor\n"
     ]
    }
   ],
   "source": [
    "students = []\n",
    "\n",
    "with open(\"students.csv\") as file:\n",
    "    for line in file:\n",
    "        name, house = line.strip().split(\",\")\n",
    "        student = {\"name\": name, \"house\": house}\n",
    "        students.append(student)\n",
    "\n",
    "def get_name(student):\n",
    "    return student[\"name\"]\n",
    "#the function simply returns \n",
    "\n",
    "for student in sorted(students, key=get_name): #the key determines which string is used to sort the data\n",
    "    print(f\"{student['name']} is in {student['house']}\") \n"
   ]
  },
  {
   "cell_type": "code",
   "execution_count": 5,
   "metadata": {},
   "outputs": [
    {
     "name": "stdout",
     "output_type": "stream",
     "text": [
      "Draco is in Slytherine\n",
      "Harry is in Gryffindor\n",
      "Hermione is in Gryffindor\n",
      "Ron is in Gryffindor\n"
     ]
    }
   ],
   "source": [
    "for student in sorted(students, key=lambda student: student[\"name\"]): #lambda is an anonymous function performing similar function\n",
    "    print(f\"{student['name']} is in {student['house']}\")"
   ]
  },
  {
   "cell_type": "code",
   "execution_count": 3,
   "metadata": {},
   "outputs": [
    {
     "name": "stdout",
     "output_type": "stream",
     "text": [
      "Draco is from Malfoy Manor\n",
      "Harry is from Number Four, Privet Drive\n",
      "Ron is from The Burrow\n"
     ]
    }
   ],
   "source": [
    "import csv\n",
    "\n",
    "students = []\n",
    "\n",
    "with open (\"students.csv\") as file:\n",
    "    reader = csv.reader(file)\n",
    "    for name, home in reader:\n",
    "        students .append({\"name\": name, \"home\": home})\n",
    "\n",
    "for student in sorted(students, key=lambda student: student[\"name\"]):\n",
    "    print(f\"{student['name']} is from {student['home']}\")"
   ]
  },
  {
   "cell_type": "code",
   "execution_count": 5,
   "metadata": {},
   "outputs": [
    {
     "name": "stdout",
     "output_type": "stream",
     "text": [
      "Draco is from Malfoy Manor\n",
      "Harry is from Number Four, Privet Drive\n",
      "Ron is from The Burrow\n"
     ]
    }
   ],
   "source": [
    "import csv\n",
    "\n",
    "students = []\n",
    "\n",
    "with open (\"students.csv\") as file:\n",
    "    reader = csv.DictReader(file)\n",
    "    for row in reader:\n",
    "        students .append({\"name\": row[\"name\"], \"home\": row[\"home\"]})\n",
    "\n",
    "for student in sorted(students, key=lambda student: student[\"name\"]):\n",
    "    print(f\"{student['name']} is from {student['home']}\")"
   ]
  },
  {
   "cell_type": "code",
   "execution_count": 9,
   "metadata": {},
   "outputs": [],
   "source": [
    "#Writing data onto the csv file\n",
    "import csv\n",
    "\n",
    "name = input(\"What's your name? \")\n",
    "home = input(\"Where's your home? \")\n",
    "\n",
    "with open(\"students.csv\", \"a\") as file:\n",
    "    writer = csv.writer(file)\n",
    "    writer.writerow([name, home])"
   ]
  },
  {
   "cell_type": "code",
   "execution_count": 14,
   "metadata": {},
   "outputs": [],
   "source": [
    "#Writing data onto the csv file as dictionaries\n",
    "import csv\n",
    "\n",
    "name = input(\"What's your name? \")\n",
    "home = input(\"Where's your home? \")\n",
    "\n",
    "with open(\"students.csv\", \"a\") as file:\n",
    "    writer = csv.DictWriter(file, fieldnames=[\"name\",\"home\"])\n",
    "    writer.writerow({\"name\": name, \"home\": home})"
   ]
  },
  {
   "cell_type": "code",
   "execution_count": null,
   "metadata": {},
   "outputs": [],
   "source": []
  }
 ],
 "metadata": {
  "kernelspec": {
   "display_name": "Python 3",
   "language": "python",
   "name": "python3"
  },
  "language_info": {
   "codemirror_mode": {
    "name": "ipython",
    "version": 3
   },
   "file_extension": ".py",
   "mimetype": "text/x-python",
   "name": "python",
   "nbconvert_exporter": "python",
   "pygments_lexer": "ipython3",
   "version": "3.12.3"
  }
 },
 "nbformat": 4,
 "nbformat_minor": 2
}

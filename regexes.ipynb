{
 "cells": [
  {
   "cell_type": "code",
   "execution_count": 4,
   "metadata": {},
   "outputs": [
    {
     "name": "stdout",
     "output_type": "stream",
     "text": [
      "Valid\n"
     ]
    }
   ],
   "source": [
    "#Validate\n",
    "email = input(\"What's your email? \").strip() #.strip cleans input- leading and trailing white spaces\n",
    "\n",
    "if \"@\" in email and \".\" in email:\n",
    "    print(\"Valid\")\n",
    "else:\n",
    "    print(\"Invalid\")\n"
   ]
  },
  {
   "cell_type": "code",
   "execution_count": 6,
   "metadata": {},
   "outputs": [
    {
     "name": "stdout",
     "output_type": "stream",
     "text": [
      "Invalid\n"
     ]
    }
   ],
   "source": [
    "email = input(\"What's your email? \").strip()\n",
    "\n",
    "username, domain = email.split(\"@\")\n",
    "\n",
    "if username and \".\" in domain:\n",
    "    print(\"Valid\")\n",
    "else:\n",
    "    print(\"Invalid\")"
   ]
  },
  {
   "cell_type": "code",
   "execution_count": 4,
   "metadata": {},
   "outputs": [
    {
     "name": "stdout",
     "output_type": "stream",
     "text": [
      "Valid\n"
     ]
    }
   ],
   "source": [
    "# re syntax = re.search(pattern, string, Flags=0)\n",
    "import re #re library is used to manipulate patterns. can be sued for input validation\n",
    "\n",
    "email =  input(\"What's your email? \").strip()\n",
    "\n",
    "if re.search(\"@\", email):\n",
    "    print(\"Valid\")\n",
    "else:\n",
    "    print(\"Invalid\")\n",
    "\n",
    "\n",
    "# CODES FOR PATTERNS\n",
    "# . - any character except a new line\n",
    "# * - 0 or more repetitions\n",
    "# + - 1 or more repetitions\n",
    "# ? - 0 or 1 repetition\n",
    "# {m} - m repetitions\n",
    "# {m-n} - m-n repetitions\n",
    "# ^ - matches the start of the string\n",
    "# $ - matches the end of the string or just before the newline at the end of the string\n",
    "# [] - set of characters\n",
    "# [^] - complementing the set (indicates the character not allowed)"
   ]
  },
  {
   "cell_type": "code",
   "execution_count": 11,
   "metadata": {},
   "outputs": [
    {
     "name": "stdout",
     "output_type": "stream",
     "text": [
      "Invalid\n"
     ]
    }
   ],
   "source": [
    "import re \n",
    "\n",
    "email =  input(\"What's your email? \").strip()\n",
    "\n",
    "if re.search(\".+@.+\", email):\n",
    "    print(\"Valid\")\n",
    "else:\n",
    "    print(\"Invalid\")"
   ]
  },
  {
   "cell_type": "code",
   "execution_count": 5,
   "metadata": {},
   "outputs": [
    {
     "name": "stdout",
     "output_type": "stream",
     "text": [
      "Invalid\n"
     ]
    }
   ],
   "source": [
    "import re \n",
    "\n",
    "email =  input(\"What's your email? \").strip()\n",
    "\n",
    "if re.search(r\"^[^@]+@[^@]+\\.com$\", email): # r-raw string where the backslash is passed exactly as is. use similar to f string\n",
    "    print(\"Valid\")\n",
    "else:\n",
    "    print(\"Invalid\")"
   ]
  },
  {
   "cell_type": "code",
   "execution_count": 6,
   "metadata": {},
   "outputs": [
    {
     "name": "stdout",
     "output_type": "stream",
     "text": [
      "Valid\n"
     ]
    }
   ],
   "source": [
    "import re \n",
    "\n",
    "email =  input(\"What's your email? \").strip()\n",
    "\n",
    "if re.search(r\"^[a-zA-Z0-9_]+@[a-zA-Z0-9_]+\\.com$\", email): \n",
    "    print(\"Valid\")\n",
    "else:\n",
    "    print(\"Invalid\")"
   ]
  },
  {
   "cell_type": "code",
   "execution_count": null,
   "metadata": {},
   "outputs": [],
   "source": [
    "import re \n",
    "\n",
    "email =  input(\"What's your email? \").strip()\n",
    "\n",
    "if re.search(r\"^\\w+@\\w+\\.com$\", email, re.IGNORECASE): \n",
    "    print(\"Valid\")\n",
    "else:\n",
    "    print(\"Invalid\")\n",
    "\n",
    "# \\d - decimal digit\n",
    "# \\D - not a decimal digit\n",
    "# \\s - whitespace characters\n",
    "# \\S - not a whitespace character\n",
    "# \\w - word character...as well as numbers and underscore\n",
    "# \\W - not a word character\n",
    "# A|B - either A or B\n",
    "# (...) - a group\n",
    "# (?:...) - non capturing version"
   ]
  },
  {
   "cell_type": "code",
   "execution_count": null,
   "metadata": {},
   "outputs": [],
   "source": [
    "# Flags for regular expressions\n",
    "# re.IGNORECASE\n",
    "# re.MULTILINE - matching multiple lines\n",
    "# re.DOTALL - any character plus new lines\n",
    "\n",
    "#OTHER REGULAR EXPRESSIONS FUNCTIONS\n",
    "#re.match(pattern, string, flags=0)- matching start\n",
    "#re.fullmatch()- matching start and end\n"
   ]
  },
  {
   "cell_type": "code",
   "execution_count": 1,
   "metadata": {},
   "outputs": [
    {
     "name": "stdout",
     "output_type": "stream",
     "text": [
      "hello, Sidney Omenya\n"
     ]
    }
   ],
   "source": [
    "name = input(\"What's your name? \").strip()\n",
    "if \",\" in name:\n",
    "    last, first = name.split(\", \")\n",
    "    name = f\"{first} {last}\"\n",
    "print(f\"hello, {name}\")"
   ]
  },
  {
   "cell_type": "code",
   "execution_count": 3,
   "metadata": {},
   "outputs": [
    {
     "name": "stdout",
     "output_type": "stream",
     "text": [
      "hello, Sidney Omenya\n"
     ]
    }
   ],
   "source": [
    "import re\n",
    "\n",
    "name = input(\"What's your name? \").strip()\n",
    "matches = re.search(r\"^(.+), (.+)$\", name)\n",
    "if matches:\n",
    "    last, first = matches.groups()\n",
    "    name = f\"{first} {last}\"\n",
    "print(f\"hello, {name}\")"
   ]
  },
  {
   "cell_type": "code",
   "execution_count": 9,
   "metadata": {},
   "outputs": [
    {
     "name": "stdout",
     "output_type": "stream",
     "text": [
      "hello, Sidney Omenya\n"
     ]
    }
   ],
   "source": [
    "import re\n",
    "\n",
    "name = input(\"What's your name? \").strip()\n",
    "if matches := re.search(r\"^(.+), *(.+)$\", name):\n",
    "    name = matches.group(2) + \" \" + matches.group(1)\n",
    "print(f\"hello, {name}\")\n",
    "\n",
    "# The walrus operator (:=) - is used to assign values to a variable and simultaneously add a conditional\n"
   ]
  },
  {
   "cell_type": "code",
   "execution_count": 11,
   "metadata": {},
   "outputs": [
    {
     "name": "stdout",
     "output_type": "stream",
     "text": [
      "Username: My username is SidneyOmenya\n"
     ]
    }
   ],
   "source": [
    "#Extracting info from input\n",
    "url = input(\"URL: \").strip()\n",
    "\n",
    "username = url.replace(\"https://twitter.com/\",\"\")\n",
    "print(f\"Username: {username}\")"
   ]
  },
  {
   "cell_type": "code",
   "execution_count": 13,
   "metadata": {},
   "outputs": [
    {
     "name": "stdout",
     "output_type": "stream",
     "text": [
      "Username: SidneyOmenya\n"
     ]
    }
   ],
   "source": [
    "import re\n",
    "#re.sub- substitute- functions to find and replace patterns\n",
    "# re.sub(pattern, repl, string, count=0, flags=0)\n",
    "url = input(\"URL: \").strip()\n",
    "\n",
    "username = re.sub(r\"^(https?://)?(www\\.)?twitter\\.com/\", \"\", url)\n",
    "print(f\"Username: {username}\")"
   ]
  },
  {
   "cell_type": "code",
   "execution_count": 21,
   "metadata": {},
   "outputs": [
    {
     "name": "stdout",
     "output_type": "stream",
     "text": [
      "Username: Omenya\n"
     ]
    }
   ],
   "source": [
    "import re\n",
    "\n",
    "url = input(\"URL: \").strip()\n",
    "\n",
    "re.search(r\"^https?://(?:www\\.)?twitter\\.com/(.+)$\", url, re.IGNORECASE)\n",
    "if matches:\n",
    "    print(f\"Username:\", matches.group(1))"
   ]
  }
 ],
 "metadata": {
  "kernelspec": {
   "display_name": "Python 3",
   "language": "python",
   "name": "python3"
  },
  "language_info": {
   "codemirror_mode": {
    "name": "ipython",
    "version": 3
   },
   "file_extension": ".py",
   "mimetype": "text/x-python",
   "name": "python",
   "nbconvert_exporter": "python",
   "pygments_lexer": "ipython3",
   "version": "3.12.3"
  }
 },
 "nbformat": 4,
 "nbformat_minor": 2
}

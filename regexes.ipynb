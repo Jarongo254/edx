{
 "cells": [
  {
   "cell_type": "code",
   "execution_count": 4,
   "metadata": {},
   "outputs": [
    {
     "name": "stdout",
     "output_type": "stream",
     "text": [
      "Valid\n"
     ]
    }
   ],
   "source": [
    "#Validate\n",
    "email = input(\"What's your email? \").strip() #.strip cleans input- leading and trailing white spaces\n",
    "\n",
    "if \"@\" in email and \".\" in email:\n",
    "    print(\"Valid\")\n",
    "else:\n",
    "    print(\"Invalid\")\n"
   ]
  },
  {
   "cell_type": "code",
   "execution_count": 6,
   "metadata": {},
   "outputs": [
    {
     "name": "stdout",
     "output_type": "stream",
     "text": [
      "Invalid\n"
     ]
    }
   ],
   "source": [
    "email = input(\"What's your email? \").strip()\n",
    "\n",
    "username, domain = email.split(\"@\")\n",
    "\n",
    "if username and \".\" in domain:\n",
    "    print(\"Valid\")\n",
    "else:\n",
    "    print(\"Invalid\")"
   ]
  },
  {
   "cell_type": "code",
   "execution_count": 4,
   "metadata": {},
   "outputs": [
    {
     "name": "stdout",
     "output_type": "stream",
     "text": [
      "Valid\n"
     ]
    }
   ],
   "source": [
    "# re syntax = re.search(pattern, string, Flags=0)\n",
    "import re #re library is used to manipulate patterns. can be sued for input validation\n",
    "\n",
    "email =  input(\"What's your email? \").strip()\n",
    "\n",
    "if re.search(\"@\", email):\n",
    "    print(\"Valid\")\n",
    "else:\n",
    "    print(\"Invalid\")\n",
    "\n",
    "\n",
    "# CODES FOR PATTERNS\n",
    "# . - any character except a new line\n",
    "# * - 0 or more repetitions\n",
    "# + - 1 or more repetitions\n",
    "# ? - 0 or 1 repetition\n",
    "# {m} - m repetitions\n",
    "# {m-n} - m-n repetitions\n",
    "# ^ - matches the start of the string\n",
    "# $ - matches the end of the string or just before the newline at the end of the string\n",
    "# [] - set of characters\n",
    "# [^] - complementing the set (indicates the character not allowed)"
   ]
  },
  {
   "cell_type": "code",
   "execution_count": 11,
   "metadata": {},
   "outputs": [
    {
     "name": "stdout",
     "output_type": "stream",
     "text": [
      "Invalid\n"
     ]
    }
   ],
   "source": [
    "import re \n",
    "\n",
    "email =  input(\"What's your email? \").strip()\n",
    "\n",
    "if re.search(\".+@.+\", email):\n",
    "    print(\"Valid\")\n",
    "else:\n",
    "    print(\"Invalid\")"
   ]
  },
  {
   "cell_type": "code",
   "execution_count": 5,
   "metadata": {},
   "outputs": [
    {
     "name": "stdout",
     "output_type": "stream",
     "text": [
      "Invalid\n"
     ]
    }
   ],
   "source": [
    "import re \n",
    "\n",
    "email =  input(\"What's your email? \").strip()\n",
    "\n",
    "if re.search(r\"^[^@]+@[^@]+\\.com$\", email): # r-raw string where the backslash is passed exactly as is. use similar to f string\n",
    "    print(\"Valid\")\n",
    "else:\n",
    "    print(\"Invalid\")"
   ]
  },
  {
   "cell_type": "code",
   "execution_count": 6,
   "metadata": {},
   "outputs": [
    {
     "name": "stdout",
     "output_type": "stream",
     "text": [
      "Valid\n"
     ]
    }
   ],
   "source": [
    "import re \n",
    "\n",
    "email =  input(\"What's your email? \").strip()\n",
    "\n",
    "if re.search(r\"^[a-zA-Z0-9_]+@[a-zA-Z0-9_]+\\.com$\", email): \n",
    "    print(\"Valid\")\n",
    "else:\n",
    "    print(\"Invalid\")"
   ]
  },
  {
   "cell_type": "code",
   "execution_count": null,
   "metadata": {},
   "outputs": [],
   "source": [
    "import re \n",
    "\n",
    "email =  input(\"What's your email? \").strip()\n",
    "\n",
    "if re.search(r\"^\\w+@\\w+\\.com$\", email): \n",
    "    print(\"Valid\")\n",
    "else:\n",
    "    print(\"Invalid\")\n",
    "\n",
    "# \\d - decimal digit\n",
    "# \\D - not a decimal digit\n",
    "# \\s - whitespace characters\n",
    "# \\S - not a whitespace character\n",
    "# \\w - word character...as well as numbers and underscore\n",
    "# \\W - not a word character\n",
    "# A|B - either A or B\n",
    "# (...) - a group\n",
    "# (?:...) - non capturing version"
   ]
  },
  {
   "cell_type": "code",
   "execution_count": null,
   "metadata": {},
   "outputs": [],
   "source": [
    "# Flags for regular expressions\n",
    "# re.IGNORECASE\n",
    "# re.MULTILINE - matchiang multiple lines\n",
    "# re.DOTALL - any character plus new lines\n"
   ]
  }
 ],
 "metadata": {
  "kernelspec": {
   "display_name": "Python 3",
   "language": "python",
   "name": "python3"
  },
  "language_info": {
   "codemirror_mode": {
    "name": "ipython",
    "version": 3
   },
   "file_extension": ".py",
   "mimetype": "text/x-python",
   "name": "python",
   "nbconvert_exporter": "python",
   "pygments_lexer": "ipython3",
   "version": "3.12.3"
  }
 },
 "nbformat": 4,
 "nbformat_minor": 2
}
